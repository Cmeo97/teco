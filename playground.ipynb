{
 "cells": [
  {
   "cell_type": "code",
   "execution_count": 1,
   "metadata": {},
   "outputs": [],
   "source": [
    "from teco.models.base import *\n",
    "import numpy as np\n",
    "import jax\n",
    "from typing import Any, Callable, Sequence\n",
    "from jax import random, numpy as jnp\n",
    "import flax\n",
    "from flax import linen as nn"
   ]
  },
  {
   "cell_type": "markdown",
   "metadata": {},
   "source": []
  },
  {
   "cell_type": "code",
   "execution_count": 2,
   "metadata": {},
   "outputs": [
    {
     "name": "stdout",
     "output_type": "stream",
     "text": [
      "Encoder output shape: (2, 64, 3, 256)\n"
     ]
    }
   ],
   "source": [
    "key1, key2 = random.split(random.PRNGKey(0))\n",
    "x = random.normal(key1, (2, 64, 256, 256, 11)) # Dummy input data\n",
    "model = Encoder(num_blocks=5, filters=[32, 64, 128, 256, 512], embeddings=256, num_embeddings=128)\n",
    "params = model.init(key2, x, True)\n",
    "out, losses = model.apply(params, x, False)\n",
    "print(f\"Encoder output shape: {out.shape}\")"
   ]
  },
  {
   "cell_type": "code",
   "execution_count": 4,
   "metadata": {},
   "outputs": [
    {
     "name": "stdout",
     "output_type": "stream",
     "text": [
      "Query shape: (128, 1, 256). X shape: (128, 3, 256)\n",
      "(128, 1, 16, 16) (128, 3, 16, 16) (128, 3, 16, 16)\n",
      "[ 826195449 1800638826]\n",
      "Query shape: (128, 1, 256). X shape: (128, 3, 256)\n",
      "(128, 1, 16, 16) (128, 3, 16, 16) (128, 3, 16, 16)\n",
      "[ 826195449 1800638826]\n",
      "Aggregated variables shape: (2, 64, 256)\n"
     ]
    }
   ],
   "source": [
    "key1, key2 = random.split(random.PRNGKey(0))\n",
    "dummy = jnp.ones((2, 64, 3, 256))\n",
    "dummy = jax.random.uniform(key=key1, shape=(2, 64, 3, 256))\n",
    "aggregator = Aggregator(embed_dim=256,num_heads=16)\n",
    "params_agg = aggregator.init({'params': random.PRNGKey(0), 'dropout': random.PRNGKey(1)}, out)\n",
    "aggregated_variables, query = aggregator.apply(params_agg, out, rngs={'dropout': random.PRNGKey(1)})\n",
    "print(f'Aggregated variables shape: {aggregated_variables.shape}')"
   ]
  },
  {
   "cell_type": "code",
   "execution_count": 5,
   "metadata": {},
   "outputs": [
    {
     "name": "stdout",
     "output_type": "stream",
     "text": [
      "Query shape: (128, 1, 256). X shape: (128, 3, 256)\n",
      "(128, 3, 16, 16) (128, 1, 16, 16) (128, 1, 16, 16)\n",
      "[ 826195449 1800638826]\n",
      "Query shape: (128, 1, 256). X shape: (128, 3, 256)\n",
      "(128, 3, 16, 16) (128, 1, 16, 16) (128, 1, 16, 16)\n",
      "[ 826195449 1800638826]\n",
      "Aggregated variables shape: (128, 3, 256)\n"
     ]
    }
   ],
   "source": [
    "\n",
    "\n",
    "key1, key2 = random.split(random.PRNGKey(0))\n",
    "dummy = jnp.ones((2, 64, 3, 256))\n",
    "dummy = jax.random.uniform(key=key1, shape=(2, 64, 3, 256))\n",
    "deaggregator = Deaggregator(embed_dim=256,num_heads=16)\n",
    "params_agg = deaggregator.init({'params': random.PRNGKey(0), 'dropout': random.PRNGKey(1)}, aggregated_variables, query)\n",
    "deaggregated_variables = deaggregator.apply(params_agg, aggregated_variables,query, rngs={'dropout': random.PRNGKey(1)})\n",
    "print(f'Aggregated variables shape: {deaggregated_variables.shape}')"
   ]
  },
  {
   "cell_type": "code",
   "execution_count": 6,
   "metadata": {},
   "outputs": [
    {
     "ename": "IndexError",
     "evalue": "tuple index out of range",
     "output_type": "error",
     "traceback": [
      "\u001b[0;31m---------------------------------------------------------------------------\u001b[0m",
      "\u001b[0;31mIndexError\u001b[0m                                Traceback (most recent call last)",
      "\u001b[1;32m/users/mlica/research/teco/playground.ipynb Cell 6\u001b[0m line \u001b[0;36m2\n\u001b[1;32m      <a href='vscode-notebook-cell://ssh-remote%2Bquechua1.ewi.tudelft.nl/users/mlica/research/teco/playground.ipynb#W3sdnNjb2RlLXJlbW90ZQ%3D%3D?line=0'>1</a>\u001b[0m decoder \u001b[39m=\u001b[39m Decoder(num_blocks\u001b[39m=\u001b[39m\u001b[39m5\u001b[39m, filters\u001b[39m=\u001b[39m[\u001b[39m32\u001b[39m, \u001b[39m64\u001b[39m, \u001b[39m128\u001b[39m, \u001b[39m256\u001b[39m, \u001b[39m512\u001b[39m], embeddings\u001b[39m=\u001b[39m\u001b[39m256\u001b[39m, shape\u001b[39m=\u001b[39m(\u001b[39m128\u001b[39m, \u001b[39m8\u001b[39m, \u001b[39m8\u001b[39m, \u001b[39m512\u001b[39m))\n\u001b[0;32m----> <a href='vscode-notebook-cell://ssh-remote%2Bquechua1.ewi.tudelft.nl/users/mlica/research/teco/playground.ipynb#W3sdnNjb2RlLXJlbW90ZQ%3D%3D?line=1'>2</a>\u001b[0m params_decoder \u001b[39m=\u001b[39m decoder\u001b[39m.\u001b[39;49minit(key2, deaggregated_variables, \u001b[39mTrue\u001b[39;49;00m)\n\u001b[1;32m      <a href='vscode-notebook-cell://ssh-remote%2Bquechua1.ewi.tudelft.nl/users/mlica/research/teco/playground.ipynb#W3sdnNjb2RlLXJlbW90ZQ%3D%3D?line=2'>3</a>\u001b[0m reconstruction \u001b[39m=\u001b[39m decoder\u001b[39m.\u001b[39mapply(params_decoder, deaggregated_variables, \u001b[39mFalse\u001b[39;00m)\n\u001b[1;32m      <a href='vscode-notebook-cell://ssh-remote%2Bquechua1.ewi.tudelft.nl/users/mlica/research/teco/playground.ipynb#W3sdnNjb2RlLXJlbW90ZQ%3D%3D?line=3'>4</a>\u001b[0m \u001b[39mprint\u001b[39m(\u001b[39mf\u001b[39m\u001b[39m\"\u001b[39m\u001b[39mShape of the reconstruction: \u001b[39m\u001b[39m{\u001b[39;00mreconstruction\u001b[39m.\u001b[39mshape\u001b[39m}\u001b[39;00m\u001b[39m\"\u001b[39m)\n",
      "    \u001b[0;31m[... skipping hidden 9 frame]\u001b[0m\n",
      "File \u001b[0;32m~/research/teco/teco/models/base.py:74\u001b[0m, in \u001b[0;36mDecoder.__call__\u001b[0;34m(self, x, train)\u001b[0m\n\u001b[1;32m     71\u001b[0m \u001b[39m@nn\u001b[39m\u001b[39m.\u001b[39mcompact\n\u001b[1;32m     72\u001b[0m \u001b[39mdef\u001b[39;00m \u001b[39m__call__\u001b[39m(\u001b[39mself\u001b[39m, x, train: \u001b[39mbool\u001b[39m):\n\u001b[1;32m     73\u001b[0m     \u001b[39m# Collapse the first 2 dims.\u001b[39;00m\n\u001b[0;32m---> 74\u001b[0m     x \u001b[39m=\u001b[39m x\u001b[39m.\u001b[39mreshape(\u001b[39m-\u001b[39m\u001b[39m1\u001b[39m, x\u001b[39m.\u001b[39mshape[\u001b[39m2\u001b[39m], x\u001b[39m.\u001b[39;49mshape[\u001b[39m3\u001b[39;49m])\n\u001b[1;32m     76\u001b[0m     ir_bands \u001b[39m=\u001b[39m DecoderHead(channels\u001b[39m=\u001b[39m\u001b[39m7\u001b[39m, num_blocks\u001b[39m=\u001b[39m\u001b[39mself\u001b[39m\u001b[39m.\u001b[39mnum_blocks, filters\u001b[39m=\u001b[39m\u001b[39mself\u001b[39m\u001b[39m.\u001b[39mfilters, embeddings\u001b[39m=\u001b[39m\u001b[39mself\u001b[39m\u001b[39m.\u001b[39membeddings,\n\u001b[1;32m     77\u001b[0m             shape\u001b[39m=\u001b[39m\u001b[39mself\u001b[39m\u001b[39m.\u001b[39mshape)(x[:, \u001b[39m0\u001b[39m, :], train)\n\u001b[1;32m     78\u001b[0m     vr_bands \u001b[39m=\u001b[39m DecoderHead(channels\u001b[39m=\u001b[39m\u001b[39m2\u001b[39m, num_blocks\u001b[39m=\u001b[39m\u001b[39mself\u001b[39m\u001b[39m.\u001b[39mnum_blocks, filters\u001b[39m=\u001b[39m\u001b[39mself\u001b[39m\u001b[39m.\u001b[39mfilters, embeddings\u001b[39m=\u001b[39m\u001b[39mself\u001b[39m\u001b[39m.\u001b[39membeddings,\n\u001b[1;32m     79\u001b[0m             shape\u001b[39m=\u001b[39m\u001b[39mself\u001b[39m\u001b[39m.\u001b[39mshape)(x[:, \u001b[39m1\u001b[39m, :], train)\n",
      "\u001b[0;31mIndexError\u001b[0m: tuple index out of range"
     ]
    }
   ],
   "source": [
    "decoder = Decoder(num_blocks=5, filters=[32, 64, 128, 256, 512], embeddings=256, shape=(128, 8, 8, 512))\n",
    "params_decoder = decoder.init(key2, deaggregated_variables, True)\n",
    "reconstruction = decoder.apply(params_decoder, deaggregated_variables, False)\n",
    "print(f\"Shape of the reconstruction: {reconstruction.shape}\")"
   ]
  },
  {
   "cell_type": "code",
   "execution_count": null,
   "metadata": {},
   "outputs": [],
   "source": []
  }
 ],
 "metadata": {
  "kernelspec": {
   "display_name": "teco",
   "language": "python",
   "name": "python3"
  },
  "language_info": {
   "codemirror_mode": {
    "name": "ipython",
    "version": 3
   },
   "file_extension": ".py",
   "mimetype": "text/x-python",
   "name": "python",
   "nbconvert_exporter": "python",
   "pygments_lexer": "ipython3",
   "version": "3.8.18"
  }
 },
 "nbformat": 4,
 "nbformat_minor": 2
}
