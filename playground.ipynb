{
 "cells": [
  {
   "cell_type": "code",
   "execution_count": 1,
   "metadata": {},
   "outputs": [],
   "source": [
    "from teco.models.base import *\n",
    "import numpy as np\n",
    "import jax\n",
    "from typing import Any, Callable, Sequence\n",
    "from jax import random, numpy as jnp\n",
    "import flax\n",
    "from flax import linen as nn"
   ]
  },
  {
   "cell_type": "code",
   "execution_count": 2,
   "metadata": {},
   "outputs": [
    {
     "name": "stdout",
     "output_type": "stream",
     "text": [
      "(128, 256)\n",
      "(128, 768)\n",
      "(128, 256)\n",
      "(128, 768)\n",
      "Encoder output shape: (2, 64, 3, 256)\n"
     ]
    }
   ],
   "source": [
    "key1, key2 = random.split(random.PRNGKey(0))\n",
    "x = random.normal(key1, (2, 64, 256, 256, 11)) # Dummy input data\n",
    "model = Encoder(num_blocks=5, filters=[32, 64, 128, 256, 512], embeddings=256)\n",
    "params = model.init(key2, x, True)\n",
    "out = model.apply(params, x, False)\n",
    "print(f\"Encoder output shape: {out.shape}\")"
   ]
  },
  {
   "cell_type": "code",
   "execution_count": 3,
   "metadata": {},
   "outputs": [
    {
     "name": "stdout",
     "output_type": "stream",
     "text": [
      "Shape of the reconstruction: (128, 256, 256, 11)\n"
     ]
    }
   ],
   "source": [
    "decoder = Decoder(num_blocks=5, filters=[32, 64, 128, 256, 512], embeddings=256, shape=(128, 8, 8, 512))\n",
    "params_decoder = decoder.init(key2, np.mean(out, axis=2), True)\n",
    "reconstruction = decoder.apply(params_decoder, np.mean(out, axis=2), False)\n",
    "print(f\"Shape of the reconstruction: {reconstruction.shape}\")"
   ]
  },
  {
   "cell_type": "code",
   "execution_count": 4,
   "metadata": {},
   "outputs": [
    {
     "data": {
      "text/plain": [
       "256.0"
      ]
     },
     "execution_count": 4,
     "metadata": {},
     "output_type": "execute_result"
    }
   ],
   "source": [
    "32768 / 128"
   ]
  },
  {
   "cell_type": "code",
   "execution_count": null,
   "metadata": {},
   "outputs": [],
   "source": []
  }
 ],
 "metadata": {
  "kernelspec": {
   "display_name": "teco",
   "language": "python",
   "name": "python3"
  },
  "language_info": {
   "codemirror_mode": {
    "name": "ipython",
    "version": 3
   },
   "file_extension": ".py",
   "mimetype": "text/x-python",
   "name": "python",
   "nbconvert_exporter": "python",
   "pygments_lexer": "ipython3",
   "version": "3.8.18"
  }
 },
 "nbformat": 4,
 "nbformat_minor": 2
}
