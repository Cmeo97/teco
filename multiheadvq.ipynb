{
 "cells": [
  {
   "cell_type": "code",
   "execution_count": 1,
   "metadata": {},
   "outputs": [],
   "source": [
    "from teco.models.base import *\n",
    "from teco.models.multiheadvq import MultiHeadVQ\n",
    "import numpy as np\n",
    "import jax\n",
    "from typing import Any, Callable, Sequence\n",
    "from jax import random, numpy as jnp\n",
    "import flax\n",
    "from flax import linen as nn\n",
    "import os"
   ]
  },
  {
   "cell_type": "code",
   "execution_count": 2,
   "metadata": {},
   "outputs": [],
   "source": [
    "os.environ[\"XLA_PYTHON_CLIENT_PREALLOCATE\"]=\"false\"\n",
    "os.environ[\"XLA_PYTHON_CLIENT_MEM_FRACTION\"]=\".XX\"\n",
    "os.environ[\"XLA_PYTHON_CLIENT_ALLOCATOR\"]=\"platform\""
   ]
  },
  {
   "cell_type": "code",
   "execution_count": 2,
   "metadata": {},
   "outputs": [],
   "source": [
    "config = {\n",
    "    'num_blocks_enc': 5,\n",
    "    'filters_enc': [32, 64, 128, 256, 512],\n",
    "    'filters_dec': [32, 64, 128, 256, 512], # should be the same as filters_enc\n",
    "    'embeddings_enc': 256,\n",
    "    'num_embeddings_enc': 256,\n",
    "    'num_heads_agg': 16,\n",
    "    'dtype': jnp.float32,\n",
    "    'mlp_layers': [256, 256, 256],\n",
    "    'codebook_embd': 256,\n",
    "    'n_codes': 256,\n",
    "    'num_blocks_dec': 5,\n",
    "}"
   ]
  },
  {
   "cell_type": "code",
   "execution_count": 3,
   "metadata": {},
   "outputs": [],
   "source": [
    "input_key, model_key = random.split(random.PRNGKey(0))\n",
    "dropout_key = random.PRNGKey(1)\n",
    "x = random.normal(input_key, (2, 36, 256, 256, 11)) # Dummy input data"
   ]
  },
  {
   "cell_type": "code",
   "execution_count": 4,
   "metadata": {},
   "outputs": [],
   "source": [
    "model = MultiHeadVQ(config)\n",
    "params = model.init({'params': model_key, 'dropout': dropout_key}, x, True)\n",
    "out, losses = model.apply(params, x, False, rngs={'dropout': dropout_key})"
   ]
  },
  {
   "cell_type": "code",
   "execution_count": null,
   "metadata": {},
   "outputs": [],
   "source": []
  }
 ],
 "metadata": {
  "kernelspec": {
   "display_name": "teco",
   "language": "python",
   "name": "python3"
  },
  "language_info": {
   "codemirror_mode": {
    "name": "ipython",
    "version": 3
   },
   "file_extension": ".py",
   "mimetype": "text/x-python",
   "name": "python",
   "nbconvert_exporter": "python",
   "pygments_lexer": "ipython3",
   "version": "3.8.18"
  }
 },
 "nbformat": 4,
 "nbformat_minor": 2
}
